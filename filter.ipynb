{
 "cells": [
  {
   "cell_type": "code",
   "execution_count": 18,
   "metadata": {},
   "outputs": [],
   "source": [
    "import json\n",
    "import requests\n",
    "import tkinter as tk\n",
    "import os"
   ]
  },
  {
   "cell_type": "code",
   "execution_count": 19,
   "metadata": {},
   "outputs": [],
   "source": [
    "#Labeled as appropriate(1) or inappropriate(0)\n",
    "labeled = []\n"
   ]
  },
  {
   "cell_type": "code",
   "execution_count": 20,
   "metadata": {},
   "outputs": [],
   "source": [
    "def fetch_joke(): \n",
    "    #Fetches a new joke from the Chuck Norris API.\n",
    "    response = requests.get(\"https://api.chucknorris.io/jokes/random\")\n",
    "    return response.json()[\"value\"]"
   ]
  },
  {
   "cell_type": "code",
   "execution_count": 21,
   "metadata": {},
   "outputs": [],
   "source": [
    "\n",
    "def label_joke(label):\n",
    "    #Labels the current joke and moves to the next.\n",
    "    global joke_text_var\n",
    "\n",
    "    # Add label (1 for appropriate, 0 for inappropriate)\n",
    "    joke = {\"text\": joke_text_var.get(), \"label\": label}\n",
    "    labeled.append(joke)  # Move to labeled list\n",
    "    \n",
    "    # Fetch and display the next joke\n",
    "    joke_text_var.set(fetch_joke())  # Update displayed joke\n"
   ]
  },
  {
   "cell_type": "code",
   "execution_count": 22,
   "metadata": {},
   "outputs": [],
   "source": [
    "# Check if labeled_jokes.json already exists, load it if it does\n",
    "# if os.path.exists(\"labeled_jokes.json\"):\n",
    "#     with open(\"labeled_jokes.json\", \"r\") as f:\n",
    "#         labeled = json.load(f)"
   ]
  },
  {
   "cell_type": "code",
   "execution_count": 23,
   "metadata": {},
   "outputs": [],
   "source": [
    "# Check if labeled_jokes.json already exists, load it if it does\n",
    "if os.path.exists(\"validation_jokes.json\"):\n",
    "    with open(\"validation_jokes.json\", \"r\") as f:\n",
    "        labeled = json.load(f)"
   ]
  },
  {
   "cell_type": "code",
   "execution_count": 24,
   "metadata": {},
   "outputs": [],
   "source": [
    "# Save labeled jokes to a JSON file\n",
    "# def save_and_exit():\n",
    "#     #Saves labeled data to a file and closes the GUI.\n",
    "#     with open(\"labeled_jokes.json\", \"w\") as f:\n",
    "#         json.dump(labeled, f, indent=4)\n",
    "    \n",
    "#     root.destroy()\n",
    "#     print(\"Labeling complete! Data saved to labeled_jokes.json\")\n",
    "\n",
    "\n",
    "def save_and_exit():\n",
    "    #Saves labeled data to a file and closes the GUI.\n",
    "    with open(\"validation_jokes.json\", \"w\") as f:\n",
    "        json.dump(labeled, f, indent=4)\n",
    "    \n",
    "    root.destroy()\n",
    "    print(\"Labeling complete! Data saved to labeled_jokes.json\")\n"
   ]
  },
  {
   "cell_type": "code",
   "execution_count": 28,
   "metadata": {},
   "outputs": [
    {
     "name": "stdout",
     "output_type": "stream",
     "text": [
      "Labeling complete! Data saved to labeled_jokes.json\n"
     ]
    }
   ],
   "source": [
    "# Set up GUI\n",
    "root = tk.Tk()\n",
    "root.title(\"Joke Labeling Tool\")\n",
    "root.geometry(\"700x500\")  # Set the window size to 600x400\n",
    "\n",
    "# Variable to hold the joke text\n",
    "joke_text_var = tk.StringVar()\n",
    "\n",
    "# Fetch the first joke from the API and display it\n",
    "joke_text_var.set(fetch_joke())\n",
    "\n",
    "# UI Elements\n",
    "joke_label = tk.Label(root, textvariable=joke_text_var, wraplength=500, font=(\"Arial\", 15))\n",
    "joke_label.pack(pady=20)\n",
    "\n",
    "btn_appropriate = tk.Button(root, text=\"Appropriate (1)\", command=lambda: label_joke(1), height=5, width=40)\n",
    "btn_appropriate.pack(pady=7)\n",
    "\n",
    "btn_inappropriate = tk.Button(root, text=\"Inappropriate (0)\", command=lambda: label_joke(0), height=5,width=40)\n",
    "btn_inappropriate.pack(pady=7)\n",
    "\n",
    "btn_exit = tk.Button(root, text=\"Finish Labeling\", command=save_and_exit, height=5,width=40)\n",
    "btn_exit.pack(pady=13)\n",
    "\n",
    "# Run the GUI\n",
    "root.mainloop()"
   ]
  },
  {
   "cell_type": "code",
   "execution_count": null,
   "metadata": {},
   "outputs": [],
   "source": []
  }
 ],
 "metadata": {
  "kernelspec": {
   "display_name": "Python 3",
   "language": "python",
   "name": "python3"
  },
  "language_info": {
   "codemirror_mode": {
    "name": "ipython",
    "version": 3
   },
   "file_extension": ".py",
   "mimetype": "text/x-python",
   "name": "python",
   "nbconvert_exporter": "python",
   "pygments_lexer": "ipython3",
   "version": "3.11.5"
  }
 },
 "nbformat": 4,
 "nbformat_minor": 2
}
